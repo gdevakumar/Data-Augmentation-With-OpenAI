{
 "cells": [
  {
   "cell_type": "markdown",
   "id": "c539ff36-434b-45e7-be6c-f265b233825c",
   "metadata": {},
   "source": [
    "### Install and Import required libraries"
   ]
  },
  {
   "cell_type": "code",
   "execution_count": 1,
   "id": "6126792d-c92c-4a63-9c41-3ba8cc970390",
   "metadata": {},
   "outputs": [
    {
     "name": "stdout",
     "output_type": "stream",
     "text": [
      "\u001b[33mWARNING: Running pip as the 'root' user can result in broken permissions and conflicting behaviour with the system package manager. It is recommended to use a virtual environment instead: https://pip.pypa.io/warnings/venv\u001b[0m\u001b[33m\n",
      "\u001b[0m"
     ]
    }
   ],
   "source": [
    "!pip install -q openai\n",
    "\n",
    "import os\n",
    "import json\n",
    "\n",
    "os.environ['OPENAI_API_KEY'] = \"OPENAI_API_KEY\""
   ]
  },
  {
   "cell_type": "code",
   "execution_count": 2,
   "id": "092fadcc-4790-4e07-81cb-2b97437e6f1e",
   "metadata": {},
   "outputs": [],
   "source": [
    "from openai import OpenAI\n",
    "client = OpenAI()"
   ]
  },
  {
   "cell_type": "markdown",
   "id": "40f75739-7c10-4729-9c44-04bc358738e6",
   "metadata": {},
   "source": [
    "### Prompt function that sends request to OpenAI to create synthetic data"
   ]
  },
  {
   "cell_type": "code",
   "execution_count": 3,
   "id": "bfb4b9e7-da96-424b-97a4-677aa65e80ed",
   "metadata": {},
   "outputs": [],
   "source": [
    "def send_request(question):\n",
    "    system = {\"role\": \"system\", \"content\": \"I need you to generate 4 variations of the following question. You can be as creative or direct as you want when generating the variants. Dont add question numbers or any symbols before question\"}\n",
    "    user = {\"role\": \"user\", \"content\": \"Here is the question: {}\".format(question)}\n",
    "    return [system, user]"
   ]
  },
  {
   "cell_type": "markdown",
   "id": "58925f16-d464-49f1-bfd5-94b872c7d0eb",
   "metadata": {},
   "source": [
    "### Reading original dataset in JSON Format"
   ]
  },
  {
   "cell_type": "code",
   "execution_count": 4,
   "id": "f6e8671a-69b1-43f0-8190-5f3b233203b4",
   "metadata": {},
   "outputs": [
    {
     "data": {
      "text/plain": [
       "68912"
      ]
     },
     "execution_count": 4,
     "metadata": {},
     "output_type": "execute_result"
    }
   ],
   "source": [
    "with open(\"./finance-alpaca.json\", \"r\") as f:\n",
    "    data = json.load(f)\n",
    "\n",
    "len(data)"
   ]
  },
  {
   "cell_type": "code",
   "execution_count": 5,
   "id": "e546cf5c-d53f-4cb9-9f27-10dd8bdb8408",
   "metadata": {},
   "outputs": [],
   "source": [
    "# Augment a small sample of data\n",
    "\n",
    "sample = data[:4]"
   ]
  },
  {
   "cell_type": "markdown",
   "id": "655d4918-da0b-4fb9-b6ba-2c7adc853b31",
   "metadata": {},
   "source": [
    "### Generating synthetic data using OpenAI"
   ]
  },
  {
   "cell_type": "code",
   "execution_count": 6,
   "id": "f2f787b9-42f2-4cd2-9f25-be4ac145c447",
   "metadata": {},
   "outputs": [],
   "source": [
    "augmented_data = []"
   ]
  },
  {
   "cell_type": "code",
   "execution_count": 7,
   "id": "db92dad1-1bfc-482e-a441-8f765d6024ea",
   "metadata": {},
   "outputs": [
    {
     "name": "stdout",
     "output_type": "stream",
     "text": [
      "[{'question': 'For a car, what scams can be plotted with 0% financing vs rebate?', 'answer': \"The car deal makes money 3 ways. If you pay in one lump payment. If the payment is greater than what they paid for the car, plus their expenses, they make a profit. They loan you the money. You make payments over months or years, if the total amount you pay is greater than what they paid for the car, plus their expenses, plus their finance expenses they make money. Of course the money takes years to come in, or they sell your loan to another business to get the money faster but in a smaller amount. You trade in a car and they sell it at a profit. Of course that new transaction could be a lump sum or a loan on the used car... They or course make money if you bring the car back for maintenance, or you buy lots of expensive dealer options. Some dealers wave two deals in front of you: get a 0% interest loan. These tend to be shorter 12 months vs 36,48,60 or even 72 months. The shorter length makes it harder for many to afford. If you can't swing the 12 large payments they offer you at x% loan for y years that keeps the payments in your budget. pay cash and get a rebate. If you take the rebate you can't get the 0% loan. If you take the 0% loan you can't get the rebate. The price you negotiate minus the rebate is enough to make a profit. The key is not letting them know which offer you are interested in. Don't even mention a trade in until the price of the new car has been finalized. Otherwise they will adjust the price, rebate, interest rate, length of loan,  and trade-in value to maximize their profit. The suggestion of running the numbers through a spreadsheet is a good one. If you get a loan for 2% from your bank/credit union for 3 years and the rebate from the dealer, it will cost less in total than the 0% loan from the dealer. The key is to get the loan approved by the bank/credit union before meeting with the dealer. The money from the bank looks like cash to the dealer.\"}, {'question': 'What types of schemes can be carried out using 0% financing in comparison to a rebate for a car?', 'answer': \"The car deal makes money 3 ways. If you pay in one lump payment. If the payment is greater than what they paid for the car, plus their expenses, they make a profit. They loan you the money. You make payments over months or years, if the total amount you pay is greater than what they paid for the car, plus their expenses, plus their finance expenses they make money. Of course the money takes years to come in, or they sell your loan to another business to get the money faster but in a smaller amount. You trade in a car and they sell it at a profit. Of course that new transaction could be a lump sum or a loan on the used car... They or course make money if you bring the car back for maintenance, or you buy lots of expensive dealer options. Some dealers wave two deals in front of you: get a 0% interest loan. These tend to be shorter 12 months vs 36,48,60 or even 72 months. The shorter length makes it harder for many to afford. If you can't swing the 12 large payments they offer you at x% loan for y years that keeps the payments in your budget. pay cash and get a rebate. If you take the rebate you can't get the 0% loan. If you take the 0% loan you can't get the rebate. The price you negotiate minus the rebate is enough to make a profit. The key is not letting them know which offer you are interested in. Don't even mention a trade in until the price of the new car has been finalized. Otherwise they will adjust the price, rebate, interest rate, length of loan,  and trade-in value to maximize their profit. The suggestion of running the numbers through a spreadsheet is a good one. If you get a loan for 2% from your bank/credit union for 3 years and the rebate from the dealer, it will cost less in total than the 0% loan from the dealer. The key is to get the loan approved by the bank/credit union before meeting with the dealer. The money from the bank looks like cash to the dealer.\"}, {'question': '', 'answer': \"The car deal makes money 3 ways. If you pay in one lump payment. If the payment is greater than what they paid for the car, plus their expenses, they make a profit. They loan you the money. You make payments over months or years, if the total amount you pay is greater than what they paid for the car, plus their expenses, plus their finance expenses they make money. Of course the money takes years to come in, or they sell your loan to another business to get the money faster but in a smaller amount. You trade in a car and they sell it at a profit. Of course that new transaction could be a lump sum or a loan on the used car... They or course make money if you bring the car back for maintenance, or you buy lots of expensive dealer options. Some dealers wave two deals in front of you: get a 0% interest loan. These tend to be shorter 12 months vs 36,48,60 or even 72 months. The shorter length makes it harder for many to afford. If you can't swing the 12 large payments they offer you at x% loan for y years that keeps the payments in your budget. pay cash and get a rebate. If you take the rebate you can't get the 0% loan. If you take the 0% loan you can't get the rebate. The price you negotiate minus the rebate is enough to make a profit. The key is not letting them know which offer you are interested in. Don't even mention a trade in until the price of the new car has been finalized. Otherwise they will adjust the price, rebate, interest rate, length of loan,  and trade-in value to maximize their profit. The suggestion of running the numbers through a spreadsheet is a good one. If you get a loan for 2% from your bank/credit union for 3 years and the rebate from the dealer, it will cost less in total than the 0% loan from the dealer. The key is to get the loan approved by the bank/credit union before meeting with the dealer. The money from the bank looks like cash to the dealer.\"}, {'question': 'What kind of fraudulent activities can someone engage in by exploiting 0% financing versus a rebate when purchasing a car?', 'answer': \"The car deal makes money 3 ways. If you pay in one lump payment. If the payment is greater than what they paid for the car, plus their expenses, they make a profit. They loan you the money. You make payments over months or years, if the total amount you pay is greater than what they paid for the car, plus their expenses, plus their finance expenses they make money. Of course the money takes years to come in, or they sell your loan to another business to get the money faster but in a smaller amount. You trade in a car and they sell it at a profit. Of course that new transaction could be a lump sum or a loan on the used car... They or course make money if you bring the car back for maintenance, or you buy lots of expensive dealer options. Some dealers wave two deals in front of you: get a 0% interest loan. These tend to be shorter 12 months vs 36,48,60 or even 72 months. The shorter length makes it harder for many to afford. If you can't swing the 12 large payments they offer you at x% loan for y years that keeps the payments in your budget. pay cash and get a rebate. If you take the rebate you can't get the 0% loan. If you take the 0% loan you can't get the rebate. The price you negotiate minus the rebate is enough to make a profit. The key is not letting them know which offer you are interested in. Don't even mention a trade in until the price of the new car has been finalized. Otherwise they will adjust the price, rebate, interest rate, length of loan,  and trade-in value to maximize their profit. The suggestion of running the numbers through a spreadsheet is a good one. If you get a loan for 2% from your bank/credit union for 3 years and the rebate from the dealer, it will cost less in total than the 0% loan from the dealer. The key is to get the loan approved by the bank/credit union before meeting with the dealer. The money from the bank looks like cash to the dealer.\"}, {'question': '', 'answer': \"The car deal makes money 3 ways. If you pay in one lump payment. If the payment is greater than what they paid for the car, plus their expenses, they make a profit. They loan you the money. You make payments over months or years, if the total amount you pay is greater than what they paid for the car, plus their expenses, plus their finance expenses they make money. Of course the money takes years to come in, or they sell your loan to another business to get the money faster but in a smaller amount. You trade in a car and they sell it at a profit. Of course that new transaction could be a lump sum or a loan on the used car... They or course make money if you bring the car back for maintenance, or you buy lots of expensive dealer options. Some dealers wave two deals in front of you: get a 0% interest loan. These tend to be shorter 12 months vs 36,48,60 or even 72 months. The shorter length makes it harder for many to afford. If you can't swing the 12 large payments they offer you at x% loan for y years that keeps the payments in your budget. pay cash and get a rebate. If you take the rebate you can't get the 0% loan. If you take the 0% loan you can't get the rebate. The price you negotiate minus the rebate is enough to make a profit. The key is not letting them know which offer you are interested in. Don't even mention a trade in until the price of the new car has been finalized. Otherwise they will adjust the price, rebate, interest rate, length of loan,  and trade-in value to maximize their profit. The suggestion of running the numbers through a spreadsheet is a good one. If you get a loan for 2% from your bank/credit union for 3 years and the rebate from the dealer, it will cost less in total than the 0% loan from the dealer. The key is to get the loan approved by the bank/credit union before meeting with the dealer. The money from the bank looks like cash to the dealer.\"}, {'question': 'Why does it matter if a Central Bank has a negative rather than 0% interest rate?', 'answer': 'That is kind of the point, one of the hopes is that it incentivizes banks to stop storing money and start injecting it into the economy themselves. Compared to the European Central Bank investing directly into the economy the way the US central bank has been doing. (The Federal Reserve buying mortgage backed securities) On a country level, individual European countries have tried this before in recent times with no noticeable effect.'}, {'question': '1. How does the implementation of a negative interest rate by a Central Bank impact the economy differently compared to a 0% interest rate?', 'answer': 'That is kind of the point, one of the hopes is that it incentivizes banks to stop storing money and start injecting it into the economy themselves. Compared to the European Central Bank investing directly into the economy the way the US central bank has been doing. (The Federal Reserve buying mortgage backed securities) On a country level, individual European countries have tried this before in recent times with no noticeable effect.'}, {'question': '2. What are the implications of a Central Bank choosing a negative interest rate over a 0% interest rate for the financial market?', 'answer': 'That is kind of the point, one of the hopes is that it incentivizes banks to stop storing money and start injecting it into the economy themselves. Compared to the European Central Bank investing directly into the economy the way the US central bank has been doing. (The Federal Reserve buying mortgage backed securities) On a country level, individual European countries have tried this before in recent times with no noticeable effect.'}, {'question': \"3. In what ways can a Central Bank's decision to set a negative interest rate instead of a 0% interest rate influence consumer behavior and spending habits?\", 'answer': 'That is kind of the point, one of the hopes is that it incentivizes banks to stop storing money and start injecting it into the economy themselves. Compared to the European Central Bank investing directly into the economy the way the US central bank has been doing. (The Federal Reserve buying mortgage backed securities) On a country level, individual European countries have tried this before in recent times with no noticeable effect.'}, {'question': '4. What potential advantages or disadvantages could arise from a Central Bank opting for a negative interest rate as opposed to maintaining a 0% interest rate?', 'answer': 'That is kind of the point, one of the hopes is that it incentivizes banks to stop storing money and start injecting it into the economy themselves. Compared to the European Central Bank investing directly into the economy the way the US central bank has been doing. (The Federal Reserve buying mortgage backed securities) On a country level, individual European countries have tried this before in recent times with no noticeable effect.'}, {'question': 'Where should I be investing my money?', 'answer': 'Pay off your debt.  As you witnessed, no \"investment\" % is guaranteed.  But your debt payments are... so if you have cash, the best way to \"invest\" it is to pay off your debt.  Since your car is depreciating while your house may be appreciating (don\\'t know but it\\'s possible) you should pay off your car loan first.  You\\'re losing money in more than one way on that investment.'}, {'question': '- How can I best allocate my funds for investing?', 'answer': 'Pay off your debt.  As you witnessed, no \"investment\" % is guaranteed.  But your debt payments are... so if you have cash, the best way to \"invest\" it is to pay off your debt.  Since your car is depreciating while your house may be appreciating (don\\'t know but it\\'s possible) you should pay off your car loan first.  You\\'re losing money in more than one way on that investment.'}, {'question': '- What are some strategic investment options for my money?', 'answer': 'Pay off your debt.  As you witnessed, no \"investment\" % is guaranteed.  But your debt payments are... so if you have cash, the best way to \"invest\" it is to pay off your debt.  Since your car is depreciating while your house may be appreciating (don\\'t know but it\\'s possible) you should pay off your car loan first.  You\\'re losing money in more than one way on that investment.'}, {'question': '- Where could I potentially see the highest returns on my investments?', 'answer': 'Pay off your debt.  As you witnessed, no \"investment\" % is guaranteed.  But your debt payments are... so if you have cash, the best way to \"invest\" it is to pay off your debt.  Since your car is depreciating while your house may be appreciating (don\\'t know but it\\'s possible) you should pay off your car loan first.  You\\'re losing money in more than one way on that investment.'}, {'question': '- What are some recommended avenues for me to grow my wealth through investments?', 'answer': 'Pay off your debt.  As you witnessed, no \"investment\" % is guaranteed.  But your debt payments are... so if you have cash, the best way to \"invest\" it is to pay off your debt.  Since your car is depreciating while your house may be appreciating (don\\'t know but it\\'s possible) you should pay off your car loan first.  You\\'re losing money in more than one way on that investment.'}, {'question': 'Specifically when do options expire?', 'answer': 'Equity options, at least those traded in the American exchanges, actually expire the Saturday after the 3rd Friday of the month.  However, the choice to trade or exercise the options must be specified by the 3rd Friday. This is outlined by the CBOE, who oversees the exchange of equity options.  Their FAQ regarding option expiration can be found at http://www.cboe.com/LearnCenter/Concepts/Beyond/expiration.aspx.'}, {'question': 'When is the precise expiration date for options?', 'answer': 'Equity options, at least those traded in the American exchanges, actually expire the Saturday after the 3rd Friday of the month.  However, the choice to trade or exercise the options must be specified by the 3rd Friday. This is outlined by the CBOE, who oversees the exchange of equity options.  Their FAQ regarding option expiration can be found at http://www.cboe.com/LearnCenter/Concepts/Beyond/expiration.aspx.'}, {'question': 'How about the expiration time for options?', 'answer': 'Equity options, at least those traded in the American exchanges, actually expire the Saturday after the 3rd Friday of the month.  However, the choice to trade or exercise the options must be specified by the 3rd Friday. This is outlined by the CBOE, who oversees the exchange of equity options.  Their FAQ regarding option expiration can be found at http://www.cboe.com/LearnCenter/Concepts/Beyond/expiration.aspx.'}, {'question': 'Can you tell me the exact deadline for options to expire?', 'answer': 'Equity options, at least those traded in the American exchanges, actually expire the Saturday after the 3rd Friday of the month.  However, the choice to trade or exercise the options must be specified by the 3rd Friday. This is outlined by the CBOE, who oversees the exchange of equity options.  Their FAQ regarding option expiration can be found at http://www.cboe.com/LearnCenter/Concepts/Beyond/expiration.aspx.'}, {'question': 'At what specific moment do options reach their expiration?', 'answer': 'Equity options, at least those traded in the American exchanges, actually expire the Saturday after the 3rd Friday of the month.  However, the choice to trade or exercise the options must be specified by the 3rd Friday. This is outlined by the CBOE, who oversees the exchange of equity options.  Their FAQ regarding option expiration can be found at http://www.cboe.com/LearnCenter/Concepts/Beyond/expiration.aspx.'}]\n"
     ]
    }
   ],
   "source": [
    "for example in sample:\n",
    "    question = example['instruction']\n",
    "    messages = send_request(question)\n",
    "    completion = client.chat.completions.create(\n",
    "        model=\"gpt-3.5-turbo\",\n",
    "        messages=messages\n",
    "    )\n",
    "    pair = {\"question\": question, \"answer\": example['output']}\n",
    "    augmented_data.append(pair)\n",
    "    response = completion.choices[0].message.content.split('\\n')\n",
    "    for i in range(4):\n",
    "        pair = {\n",
    "            \"question\": response[i], \n",
    "            \"answer\": example['output']\n",
    "        }\n",
    "        augmented_data.append(pair)\n",
    "\n",
    "\n",
    "print(augmented_data)"
   ]
  },
  {
   "cell_type": "code",
   "execution_count": 8,
   "id": "fd5cfbd1-0ba5-4658-b6dd-73e910792a8b",
   "metadata": {},
   "outputs": [
    {
     "data": {
      "text/plain": [
       "20"
      ]
     },
     "execution_count": 8,
     "metadata": {},
     "output_type": "execute_result"
    }
   ],
   "source": [
    "len(augmented_data)"
   ]
  },
  {
   "cell_type": "markdown",
   "id": "d3eaa638-1b11-49b6-b68f-b7352c81201b",
   "metadata": {},
   "source": [
    "### Writing generated data to a json file"
   ]
  },
  {
   "cell_type": "code",
   "execution_count": 10,
   "id": "5133bc2b-d135-46dc-b556-585641c543ca",
   "metadata": {},
   "outputs": [],
   "source": [
    "with open(\"augmented_data.json\", \"w\") as file:\n",
    "    json.dump(augmented_data, file, indent=2)"
   ]
  }
 ],
 "metadata": {
  "kernelspec": {
   "display_name": "Python 3 (ipykernel)",
   "language": "python",
   "name": "python3"
  },
  "language_info": {
   "codemirror_mode": {
    "name": "ipython",
    "version": 3
   },
   "file_extension": ".py",
   "mimetype": "text/x-python",
   "name": "python",
   "nbconvert_exporter": "python",
   "pygments_lexer": "ipython3",
   "version": "3.10.13"
  }
 },
 "nbformat": 4,
 "nbformat_minor": 5
}
